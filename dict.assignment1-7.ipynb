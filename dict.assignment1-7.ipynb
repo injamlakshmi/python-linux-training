{
 "cells": [
  {
   "cell_type": "code",
   "execution_count": 4,
   "id": "45af0146-96ec-45bd-924d-ec08510d787d",
   "metadata": {
    "tags": []
   },
   "outputs": [
    {
     "data": {
      "text/plain": [
       "{'name': 'ABC',\n",
       " 'age': 18,\n",
       " 'weight': 67.59,\n",
       " 'marks': [89, 95, 67, 70, 74],\n",
       " 'pass': True}"
      ]
     },
     "execution_count": 4,
     "metadata": {},
     "output_type": "execute_result"
    }
   ],
   "source": [
    "#Declare a dct with below given values\n",
    "a = {\"name\":\"ABC\",\"age\":18,\"weight\":67.59,\"marks\":[89,95,67,70,74],\"pass\":True}\n",
    "a"
   ]
  },
  {
   "cell_type": "code",
   "execution_count": 6,
   "id": "a2a875a2-7698-4dd2-8f89-230917ef5864",
   "metadata": {
    "tags": []
   },
   "outputs": [],
   "source": [
    "#add new field to dict as class with value as 12\n",
    "a [\"class\"]=(14)"
   ]
  },
  {
   "cell_type": "code",
   "execution_count": 7,
   "id": "66a76812-980c-46d5-a4b5-3a72b09b275f",
   "metadata": {
    "tags": []
   },
   "outputs": [
    {
     "data": {
      "text/plain": [
       "{'name': 'ABC',\n",
       " 'age': 18,\n",
       " 'weight': 67.59,\n",
       " 'marks': [89, 95, 67, 70, 74],\n",
       " 'pass': True,\n",
       " 'class': 14}"
      ]
     },
     "execution_count": 7,
     "metadata": {},
     "output_type": "execute_result"
    }
   ],
   "source": [
    "a"
   ]
  },
  {
   "cell_type": "code",
   "execution_count": 9,
   "id": "845175cf-d5b3-4a55-9ed6-18b8ab33335d",
   "metadata": {
    "tags": []
   },
   "outputs": [
    {
     "data": {
      "text/plain": [
       "{'name': 'ABC',\n",
       " 'age': 18,\n",
       " 'weight': 67.59,\n",
       " 'marks': [89, 95, 67, 70, 70],\n",
       " 'pass': True,\n",
       " 'class': 14}"
      ]
     },
     "execution_count": 9,
     "metadata": {},
     "output_type": "execute_result"
    }
   ],
   "source": [
    "#change marks 74 instead of 70\n",
    "a['marks'][4]=70\n",
    "a"
   ]
  },
  {
   "cell_type": "code",
   "execution_count": 10,
   "id": "d5488c08-f43a-4fd2-955f-cd5a78f0f10f",
   "metadata": {
    "tags": []
   },
   "outputs": [],
   "source": [
    "a['marks'].remove(70)"
   ]
  },
  {
   "cell_type": "code",
   "execution_count": 11,
   "id": "f25f4812-e6db-45da-8b1c-3c5faf413bc6",
   "metadata": {
    "tags": []
   },
   "outputs": [
    {
     "data": {
      "text/plain": [
       "{'name': 'ABC',\n",
       " 'age': 18,\n",
       " 'weight': 67.59,\n",
       " 'marks': [89, 95, 67, 70],\n",
       " 'pass': True,\n",
       " 'class': 14}"
      ]
     },
     "execution_count": 11,
     "metadata": {},
     "output_type": "execute_result"
    }
   ],
   "source": [
    "a"
   ]
  },
  {
   "cell_type": "code",
   "execution_count": 12,
   "id": "7ae819b0-da01-4a0b-a656-ed25293b1214",
   "metadata": {
    "tags": []
   },
   "outputs": [],
   "source": [
    "#add field with behaviour as “Good”\n",
    "a[\"behaviour\"]=(\"good\")"
   ]
  },
  {
   "cell_type": "code",
   "execution_count": 13,
   "id": "a7b91bd5-c840-4438-8cab-c82bcfb47bbb",
   "metadata": {
    "tags": []
   },
   "outputs": [
    {
     "data": {
      "text/plain": [
       "{'name': 'ABC',\n",
       " 'age': 18,\n",
       " 'weight': 67.59,\n",
       " 'marks': [89, 95, 67, 70],\n",
       " 'pass': True,\n",
       " 'class': 14,\n",
       " 'behaviour': 'good'}"
      ]
     },
     "execution_count": 13,
     "metadata": {},
     "output_type": "execute_result"
    }
   ],
   "source": [
    "a"
   ]
  },
  {
   "cell_type": "code",
   "execution_count": 16,
   "id": "9aa6f2fa-562c-4bff-a5e7-8c4f0b1f7355",
   "metadata": {
    "tags": []
   },
   "outputs": [
    {
     "data": {
      "text/plain": [
       "'good'"
      ]
     },
     "execution_count": 16,
     "metadata": {},
     "output_type": "execute_result"
    }
   ],
   "source": [
    "#remove key behaviour\n",
    "#print key status without an error\n",
    "#print key status with default value updated\n",
    "a.pop(\"behaviour\")"
   ]
  },
  {
   "cell_type": "code",
   "execution_count": 18,
   "id": "c7744537-c8f2-447d-b171-a4bc18cccda7",
   "metadata": {
    "tags": []
   },
   "outputs": [
    {
     "data": {
      "text/plain": [
       "{'name': 'ABC',\n",
       " 'age': 18,\n",
       " 'weight': 67.59,\n",
       " 'marks': [89, 95, 67, 70],\n",
       " 'pass': True,\n",
       " 'class': 14}"
      ]
     },
     "execution_count": 18,
     "metadata": {},
     "output_type": "execute_result"
    }
   ],
   "source": [
    "a"
   ]
  },
  {
   "cell_type": "code",
   "execution_count": 21,
   "id": "98de735a-5b8d-4d1c-8cc7-fca3b347d8a6",
   "metadata": {
    "tags": []
   },
   "outputs": [],
   "source": [
    "#add new dict to above dict as sports = {“cricket”: “yes”, “football”: “yes”, “tennis”: “no”, “chess”: “maybe”}\n",
    "a[\"sports\"]=[\"cricket\",\"yes\", \"football\", \"yes\", \"tennis”\", \"no\",\"chess\", \"maybe\"]"
   ]
  },
  {
   "cell_type": "code",
   "execution_count": 22,
   "id": "5ed51503-84cf-41c5-9814-292fcdf6f74e",
   "metadata": {
    "tags": []
   },
   "outputs": [
    {
     "data": {
      "text/plain": [
       "{'name': 'ABC',\n",
       " 'age': 18,\n",
       " 'weight': 67.59,\n",
       " 'marks': [89, 95, 67, 70],\n",
       " 'pass': True,\n",
       " 'class': 14,\n",
       " 'sports': ['cricket',\n",
       "  'yes',\n",
       "  'football',\n",
       "  'yes',\n",
       "  'tennis”',\n",
       "  'no',\n",
       "  'chess',\n",
       "  'maybe']}"
      ]
     },
     "execution_count": 22,
     "metadata": {},
     "output_type": "execute_result"
    }
   ],
   "source": [
    "a"
   ]
  },
  {
   "cell_type": "code",
   "execution_count": 23,
   "id": "d3205a80-e8b4-4fe7-8f2a-022698f88f2d",
   "metadata": {
    "tags": []
   },
   "outputs": [
    {
     "data": {
      "text/plain": [
       "'football'"
      ]
     },
     "execution_count": 23,
     "metadata": {},
     "output_type": "execute_result"
    }
   ],
   "source": [
    "#print value of football\n",
    "a['sports'][2]"
   ]
  },
  {
   "cell_type": "code",
   "execution_count": 24,
   "id": "ec38320f-ad3e-4cbf-a661-e757a964052c",
   "metadata": {
    "tags": []
   },
   "outputs": [],
   "source": [
    "#change value of chess to “yes”\n",
    "a[\"sports\"][6]=\"yes\""
   ]
  },
  {
   "cell_type": "code",
   "execution_count": 25,
   "id": "c7503bbe-c5f1-449b-991c-c9e5df404073",
   "metadata": {
    "tags": []
   },
   "outputs": [
    {
     "data": {
      "text/plain": [
       "{'name': 'ABC',\n",
       " 'age': 18,\n",
       " 'weight': 67.59,\n",
       " 'marks': [89, 95, 67, 70],\n",
       " 'pass': True,\n",
       " 'class': 14,\n",
       " 'sports': ['cricket',\n",
       "  'yes',\n",
       "  'football',\n",
       "  'yes',\n",
       "  'tennis”',\n",
       "  'no',\n",
       "  'yes',\n",
       "  'maybe']}"
      ]
     },
     "execution_count": 25,
     "metadata": {},
     "output_type": "execute_result"
    }
   ],
   "source": [
    "a"
   ]
  },
  {
   "cell_type": "code",
   "execution_count": 29,
   "id": "aa6e1771-12fe-4eee-ae37-7105e7909f8b",
   "metadata": {
    "jupyter": {
     "source_hidden": true
    },
    "tags": []
   },
   "outputs": [
    {
     "ename": "SyntaxError",
     "evalue": "Missing parentheses in call to 'print'. Did you mean print(...)? (3829556292.py, line 2)",
     "output_type": "error",
     "traceback": [
      "\u001b[1;36m  Cell \u001b[1;32mIn[29], line 2\u001b[1;36m\u001b[0m\n\u001b[1;33m    print dictionary.keys\u001b[0m\n\u001b[1;37m    ^\u001b[0m\n\u001b[1;31mSyntaxError\u001b[0m\u001b[1;31m:\u001b[0m Missing parentheses in call to 'print'. Did you mean print(...)?\n"
     ]
    }
   ],
   "source": [
    "#print all keys\n",
    "print dictionary.keys\n"
   ]
  },
  {
   "cell_type": "code",
   "execution_count": 28,
   "id": "d331d572-efc8-4594-85ea-4fe06c05d653",
   "metadata": {
    "tags": []
   },
   "outputs": [
    {
     "name": "stdout",
     "output_type": "stream",
     "text": [
      "ABC\n",
      "18\n",
      "67.59\n",
      "[89, 95, 67, 70]\n",
      "True\n",
      "14\n",
      "['cricket', 'yes', 'football', 'yes', 'tennis”', 'no', 'yes', 'maybe']\n"
     ]
    }
   ],
   "source": [
    "#print all values\n",
    "print(a[\"name\"])\n",
    "print(a[\"age\"])\n",
    "print(a[\"weight\"])\n",
    "print(a[\"marks\"])\n",
    "print(a[\"pass\"])\n",
    "print(a[\"class\"])\n",
    "print(a[\"sports\"])"
   ]
  },
  {
   "cell_type": "code",
   "execution_count": 27,
   "id": "5d04140f-d316-465c-baca-dc8df3641ea4",
   "metadata": {
    "tags": []
   },
   "outputs": [
    {
     "data": {
      "text/plain": [
       "dict_items([('name', 'ABC'), ('age', 18), ('weight', 67.59), ('marks', [89, 95, 67, 70]), ('pass', True), ('class', 14), ('sports', ['cricket', 'yes', 'football', 'yes', 'tennis”', 'no', 'yes', 'maybe'])])"
      ]
     },
     "execution_count": 27,
     "metadata": {},
     "output_type": "execute_result"
    }
   ],
   "source": [
    "#print all items\n",
    "a.items()"
   ]
  },
  {
   "cell_type": "code",
   "execution_count": null,
   "id": "f0b241e8-3893-42b0-8f6b-ceaf7894747a",
   "metadata": {},
   "outputs": [],
   "source": []
  }
 ],
 "metadata": {
  "kernelspec": {
   "display_name": "Python 3 (ipykernel)",
   "language": "python",
   "name": "python3"
  },
  "language_info": {
   "codemirror_mode": {
    "name": "ipython",
    "version": 3
   },
   "file_extension": ".py",
   "mimetype": "text/x-python",
   "name": "python",
   "nbconvert_exporter": "python",
   "pygments_lexer": "ipython3",
   "version": "3.11.3"
  }
 },
 "nbformat": 4,
 "nbformat_minor": 5
}
