{
 "cells": [
  {
   "cell_type": "code",
   "execution_count": 9,
   "id": "2ba44255-b7fd-4a05-8d24-01c482ebda13",
   "metadata": {
    "tags": []
   },
   "outputs": [
    {
     "data": {
      "text/plain": [
       "(56,\n",
       " 'John',\n",
       " 98,\n",
       " 'Jane',\n",
       " 0.56,\n",
       " 64,\n",
       " 'Happy',\n",
       " 1.4,\n",
       " 85,\n",
       " [32, 9.78, 'high'],\n",
       " 'jecob',\n",
       " 67,\n",
       " 1.1,\n",
       " 73)"
      ]
     },
     "execution_count": 9,
     "metadata": {},
     "output_type": "execute_result"
    }
   ],
   "source": [
    "#Define a list with below given tuple of elements \n",
    "#convert above list to tuple\n",
    "details =[56,\n",
    " 'John',\n",
    " 98,\n",
    " 'Jane',\n",
    " 0.56,\n",
    " 64,\n",
    " 'Happy',\n",
    " 1.4,\n",
    " 85,\n",
    " [32, 9.78, 'high'],\n",
    " 'jecob',\n",
    " 67,\n",
    " 1.1,\n",
    " 73]\n",
    "\n",
    "tuple(details)\n"
   ]
  },
  {
   "cell_type": "code",
   "execution_count": 25,
   "id": "509bdde9-5435-4494-be83-75ffe66bec2b",
   "metadata": {
    "tags": []
   },
   "outputs": [
    {
     "data": {
      "text/plain": [
       "[56,\n",
       " 'John',\n",
       " 98,\n",
       " 'Jane',\n",
       " 0.56,\n",
       " 64,\n",
       " 'Happy',\n",
       " 1.4,\n",
       " 85,\n",
       " [32, 9.78, 'high'],\n",
       " 'jecob',\n",
       " 67,\n",
       " 1.1,\n",
       " 73,\n",
       " 999]"
      ]
     },
     "execution_count": 25,
     "metadata": {},
     "output_type": "execute_result"
    }
   ],
   "source": [
    "#try to add new element to the tuple as 999\n",
    "#we can't add  new elements in tuples if we should add we have to convert to list and we should add\n",
    "list(details)\n",
    "details.append(999)\n",
    "details"
   ]
  },
  {
   "cell_type": "code",
   "execution_count": 28,
   "id": "cb7e6aad-903b-488d-8447-c5631b4dcf53",
   "metadata": {
    "tags": []
   },
   "outputs": [
    {
     "data": {
      "text/plain": [
       "(56,\n",
       " 'John',\n",
       " 98,\n",
       " 'Jane',\n",
       " 0.56,\n",
       " 64,\n",
       " 'Happy',\n",
       " 1.4,\n",
       " 85,\n",
       " [32, 9.78, 'high'],\n",
       " 'jecob',\n",
       " 67,\n",
       " 1.1,\n",
       " 73,\n",
       " 999)"
      ]
     },
     "execution_count": 28,
     "metadata": {},
     "output_type": "execute_result"
    }
   ],
   "source": [
    "tuple(details)"
   ]
  },
  {
   "cell_type": "code",
   "execution_count": 29,
   "id": "1ea31211-d89c-41d7-9380-b15e38f1763d",
   "metadata": {
    "tags": []
   },
   "outputs": [
    {
     "data": {
      "text/plain": [
       "[56,\n",
       " 'John',\n",
       " 98,\n",
       " 'Jane',\n",
       " 0.56,\n",
       " 64,\n",
       " 'Happy',\n",
       " 1.4,\n",
       " 85,\n",
       " [32, 9.78, 'high'],\n",
       " 'jecob',\n",
       " 67,\n",
       " 1.1,\n",
       " 73,\n",
       " 999]"
      ]
     },
     "execution_count": 29,
     "metadata": {},
     "output_type": "execute_result"
    }
   ],
   "source": [
    "#insert new element after ‘High’\n",
    "#we can't add  new elements in tuples if we should add we have to convert to list and we should add\n",
    "list(details)"
   ]
  },
  {
   "cell_type": "code",
   "execution_count": 32,
   "id": "65b75020-eabd-474c-aa29-35c917de6a3b",
   "metadata": {
    "tags": []
   },
   "outputs": [],
   "source": [
    "details[9].append(127)"
   ]
  },
  {
   "cell_type": "code",
   "execution_count": 33,
   "id": "930f6466-4dcc-4cba-af25-c136c24e386e",
   "metadata": {
    "tags": []
   },
   "outputs": [
    {
     "data": {
      "text/plain": [
       "[56,\n",
       " 'John',\n",
       " 98,\n",
       " 'Jane',\n",
       " 0.56,\n",
       " 64,\n",
       " 'Happy',\n",
       " 1.4,\n",
       " 85,\n",
       " [32, 9.78, 'high', 127, 127],\n",
       " 'jecob',\n",
       " 67,\n",
       " 1.1,\n",
       " 73,\n",
       " 999]"
      ]
     },
     "execution_count": 33,
     "metadata": {},
     "output_type": "execute_result"
    }
   ],
   "source": [
    "details"
   ]
  },
  {
   "cell_type": "code",
   "execution_count": 38,
   "id": "39f4e11e-3494-4dfe-8282-bc5cf0a0487a",
   "metadata": {
    "tags": []
   },
   "outputs": [],
   "source": [
    "details[9].remove(127)"
   ]
  },
  {
   "cell_type": "code",
   "execution_count": 39,
   "id": "1ae0cefa-8726-4404-9f8e-691bfa4d5b69",
   "metadata": {
    "tags": []
   },
   "outputs": [
    {
     "data": {
      "text/plain": [
       "[56,\n",
       " 'John',\n",
       " 98,\n",
       " 'Jane',\n",
       " 0.56,\n",
       " 64,\n",
       " 'Happy',\n",
       " 1.4,\n",
       " 85,\n",
       " [32, 9.78, 'high', 127],\n",
       " 'jecob',\n",
       " 67,\n",
       " 1.1,\n",
       " 73,\n",
       " 999]"
      ]
     },
     "execution_count": 39,
     "metadata": {},
     "output_type": "execute_result"
    }
   ],
   "source": [
    "details"
   ]
  },
  {
   "cell_type": "code",
   "execution_count": 40,
   "id": "34252896-ea00-4cf6-b1ce-502085811af6",
   "metadata": {
    "tags": []
   },
   "outputs": [
    {
     "data": {
      "text/plain": [
       "(56,\n",
       " 'John',\n",
       " 98,\n",
       " 'Jane',\n",
       " 0.56,\n",
       " 64,\n",
       " 'Happy',\n",
       " 1.4,\n",
       " 85,\n",
       " [32, 9.78, 'high', 127],\n",
       " 'jecob',\n",
       " 67,\n",
       " 1.1,\n",
       " 73,\n",
       " 999)"
      ]
     },
     "execution_count": 40,
     "metadata": {},
     "output_type": "execute_result"
    }
   ],
   "source": [
    "tuple(details)"
   ]
  },
  {
   "cell_type": "code",
   "execution_count": null,
   "id": "577515bb-3393-4bac-acec-6814d2d80328",
   "metadata": {},
   "outputs": [],
   "source": []
  }
 ],
 "metadata": {
  "kernelspec": {
   "display_name": "Python 3 (ipykernel)",
   "language": "python",
   "name": "python3"
  },
  "language_info": {
   "codemirror_mode": {
    "name": "ipython",
    "version": 3
   },
   "file_extension": ".py",
   "mimetype": "text/x-python",
   "name": "python",
   "nbconvert_exporter": "python",
   "pygments_lexer": "ipython3",
   "version": "3.11.3"
  }
 },
 "nbformat": 4,
 "nbformat_minor": 5
}
