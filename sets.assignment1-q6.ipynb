{
 "cells": [
  {
   "cell_type": "code",
   "execution_count": 7,
   "id": "700f39b5-c57d-4be0-b33c-fa92864aac37",
   "metadata": {
    "tags": []
   },
   "outputs": [],
   "source": [
    "#Declare two sets with below given values\n",
    "a = {67, 34, 78,13, 89, 54} \n",
    "b = {56, 13, 76, 43, 78}"
   ]
  },
  {
   "cell_type": "code",
   "execution_count": 11,
   "id": "b2068263-6d10-4499-95de-3b805a34724f",
   "metadata": {
    "tags": []
   },
   "outputs": [
    {
     "data": {
      "text/plain": [
       "{13, 34, 54, 67, 78, 89}"
      ]
     },
     "execution_count": 11,
     "metadata": {},
     "output_type": "execute_result"
    }
   ],
   "source": [
    "#add new element in set B as 34\n",
    "b.add(34)\n",
    "a"
   ]
  },
  {
   "cell_type": "code",
   "execution_count": 12,
   "id": "d9611d58-609c-42e9-9b5b-33c1006e52f8",
   "metadata": {
    "tags": []
   },
   "outputs": [
    {
     "data": {
      "text/plain": [
       "{13, 34, 43, 56, 76, 78}"
      ]
     },
     "execution_count": 12,
     "metadata": {},
     "output_type": "execute_result"
    }
   ],
   "source": [
    "b"
   ]
  },
  {
   "cell_type": "code",
   "execution_count": 13,
   "id": "f0fa4065-3c69-407f-b5ae-fe4c87b2ceac",
   "metadata": {
    "tags": []
   },
   "outputs": [
    {
     "data": {
      "text/plain": [
       "{13, 34, 54, 67, 78, 89}"
      ]
     },
     "execution_count": 13,
     "metadata": {},
     "output_type": "execute_result"
    }
   ],
   "source": [
    "#try to add duplicate element in set A and comment the behaviour\n",
    "a.add(67)\n",
    "a\n",
    "#in sets we cannot add duplicate values"
   ]
  },
  {
   "cell_type": "code",
   "execution_count": 14,
   "id": "bdf5e176-10a4-4d70-8732-66d0c3e63a9b",
   "metadata": {
    "tags": []
   },
   "outputs": [],
   "source": [
    "#perform below operations\n",
    "#Print union operation performed between set A and set B\n",
    "c = a.union(b)"
   ]
  },
  {
   "cell_type": "code",
   "execution_count": 15,
   "id": "ef39041a-b970-4830-a52c-12533e47c0fe",
   "metadata": {
    "tags": []
   },
   "outputs": [
    {
     "data": {
      "text/plain": [
       "{13, 34, 43, 54, 56, 67, 76, 78, 89}"
      ]
     },
     "execution_count": 15,
     "metadata": {},
     "output_type": "execute_result"
    }
   ],
   "source": [
    "c"
   ]
  },
  {
   "cell_type": "code",
   "execution_count": 16,
   "id": "35d3bae9-a441-4a91-a29e-675b2d39f1bc",
   "metadata": {
    "tags": []
   },
   "outputs": [],
   "source": [
    "#Print intersection operation performed between set A and set B\n",
    "c = a.intersection(b)"
   ]
  },
  {
   "cell_type": "code",
   "execution_count": 17,
   "id": "56732961-8322-4c48-803c-58ba5b571a63",
   "metadata": {
    "tags": []
   },
   "outputs": [
    {
     "data": {
      "text/plain": [
       "{13, 34, 78}"
      ]
     },
     "execution_count": 17,
     "metadata": {},
     "output_type": "execute_result"
    }
   ],
   "source": [
    "c"
   ]
  },
  {
   "cell_type": "code",
   "execution_count": 18,
   "id": "7289ee63-675e-4581-9e5d-47756e344cc3",
   "metadata": {
    "tags": []
   },
   "outputs": [],
   "source": [
    "#Print difference operation performed between set A and set B\n",
    "c= a.difference(b)"
   ]
  },
  {
   "cell_type": "code",
   "execution_count": 19,
   "id": "4a35ac3d-a78c-45cd-a03e-d690f87c1431",
   "metadata": {
    "tags": []
   },
   "outputs": [
    {
     "data": {
      "text/plain": [
       "{54, 67, 89}"
      ]
     },
     "execution_count": 19,
     "metadata": {},
     "output_type": "execute_result"
    }
   ],
   "source": [
    "c"
   ]
  },
  {
   "cell_type": "code",
   "execution_count": 20,
   "id": "caf6b10d-8b7f-4f53-a30e-f755695f165f",
   "metadata": {
    "tags": []
   },
   "outputs": [],
   "source": [
    "c =b.difference(a)"
   ]
  },
  {
   "cell_type": "code",
   "execution_count": 21,
   "id": "3552bb1d-adc9-4975-bc70-0eadecfbab40",
   "metadata": {
    "tags": []
   },
   "outputs": [
    {
     "data": {
      "text/plain": [
       "{43, 56, 76}"
      ]
     },
     "execution_count": 21,
     "metadata": {},
     "output_type": "execute_result"
    }
   ],
   "source": [
    "c"
   ]
  },
  {
   "cell_type": "code",
   "execution_count": 39,
   "id": "edecffb6-b973-488e-be25-06c5975a234a",
   "metadata": {
    "tags": []
   },
   "outputs": [
    {
     "name": "stdout",
     "output_type": "stream",
     "text": [
      "False\n"
     ]
    }
   ],
   "source": [
    "#Check and print if Set C is subset of A and B\n",
    "print(c.issubset(a))"
   ]
  },
  {
   "cell_type": "code",
   "execution_count": 40,
   "id": "5db10dc6-f2b1-4955-bfe5-12eee8b9aefa",
   "metadata": {
    "tags": []
   },
   "outputs": [
    {
     "name": "stdout",
     "output_type": "stream",
     "text": [
      "True\n"
     ]
    }
   ],
   "source": [
    "print(c.issubset(b))"
   ]
  },
  {
   "cell_type": "code",
   "execution_count": 41,
   "id": "08207110-4376-4eb8-b0fd-3c3e284c3906",
   "metadata": {
    "tags": []
   },
   "outputs": [
    {
     "name": "stdout",
     "output_type": "stream",
     "text": [
      "False\n"
     ]
    }
   ],
   "source": [
    "#Check and print if Set A and B are superset of C\n",
    "print(a.issuperset(c))"
   ]
  },
  {
   "cell_type": "code",
   "execution_count": 42,
   "id": "5a6e6332-7b53-47bd-b734-a143d0037ff4",
   "metadata": {
    "tags": []
   },
   "outputs": [
    {
     "name": "stdout",
     "output_type": "stream",
     "text": [
      "True\n"
     ]
    }
   ],
   "source": [
    "print(b.issuperset(c))"
   ]
  },
  {
   "cell_type": "code",
   "execution_count": 43,
   "id": "3d5a2015-7f05-4c48-9205-63f59b134f0a",
   "metadata": {
    "tags": []
   },
   "outputs": [
    {
     "data": {
      "text/plain": [
       "set()"
      ]
     },
     "execution_count": 43,
     "metadata": {},
     "output_type": "execute_result"
    }
   ],
   "source": [
    "#declare null set (empty set)\n",
    "a = set({})\n",
    "a"
   ]
  },
  {
   "cell_type": "code",
   "execution_count": 44,
   "id": "b09d38a6-2e9e-4816-86ad-baa2ca2f2639",
   "metadata": {
    "tags": []
   },
   "outputs": [
    {
     "data": {
      "text/plain": [
       "set"
      ]
     },
     "execution_count": 44,
     "metadata": {},
     "output_type": "execute_result"
    }
   ],
   "source": [
    "type(a)"
   ]
  },
  {
   "cell_type": "code",
   "execution_count": 45,
   "id": "d581e6cd-71df-4ff5-b5f1-9481cb396051",
   "metadata": {
    "tags": []
   },
   "outputs": [
    {
     "data": {
      "text/plain": [
       "{}"
      ]
     },
     "execution_count": 45,
     "metadata": {},
     "output_type": "execute_result"
    }
   ],
   "source": [
    "b = {}\n",
    "b"
   ]
  },
  {
   "cell_type": "code",
   "execution_count": null,
   "id": "c7b98703-d923-425f-bdc4-fc57b6969c13",
   "metadata": {},
   "outputs": [],
   "source": []
  }
 ],
 "metadata": {
  "kernelspec": {
   "display_name": "Python 3 (ipykernel)",
   "language": "python",
   "name": "python3"
  },
  "language_info": {
   "codemirror_mode": {
    "name": "ipython",
    "version": 3
   },
   "file_extension": ".py",
   "mimetype": "text/x-python",
   "name": "python",
   "nbconvert_exporter": "python",
   "pygments_lexer": "ipython3",
   "version": "3.11.3"
  }
 },
 "nbformat": 4,
 "nbformat_minor": 5
}
