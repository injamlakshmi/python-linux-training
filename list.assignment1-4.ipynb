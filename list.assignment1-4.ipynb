{
 "cells": [
  {
   "cell_type": "code",
   "execution_count": 1,
   "id": "6af1652f-5702-4241-8088-827d0829797a",
   "metadata": {},
   "outputs": [
    {
     "data": {
      "text/plain": [
       "[56, 'John', 98, 'Jane', 0.56, 64, 'Happy', 1.4, 85]"
      ]
     },
     "execution_count": 1,
     "metadata": {},
     "output_type": "execute_result"
    }
   ],
   "source": [
    "#Define a list  \n",
    "#add a new element 85\n",
    "details = [56, \"John\", 98, \"Jane\", 0.56 , 64, \"Happy\", 1.4]\n",
    "details.append(85)\n",
    "details"
   ]
  },
  {
   "cell_type": "code",
   "execution_count": 3,
   "id": "bec04a61-b647-4aa6-8d8d-6cde04ad8609",
   "metadata": {
    "tags": []
   },
   "outputs": [
    {
     "data": {
      "text/plain": [
       "'Jane'"
      ]
     },
     "execution_count": 3,
     "metadata": {},
     "output_type": "execute_result"
    }
   ],
   "source": [
    "#print ‘Jane’ using index number\n",
    "details[3]"
   ]
  },
  {
   "cell_type": "code",
   "execution_count": 69,
   "id": "1930383d-7c54-41e1-af38-9ffaeb1a3116",
   "metadata": {
    "tags": []
   },
   "outputs": [
    {
     "data": {
      "text/plain": [
       "'Happy'"
      ]
     },
     "execution_count": 69,
     "metadata": {},
     "output_type": "execute_result"
    }
   ],
   "source": [
    "#print value at index number 6 from list\n",
    "details[6]\n"
   ]
  },
  {
   "cell_type": "code",
   "execution_count": 70,
   "id": "b93add09-1d26-4866-9935-1278663515cd",
   "metadata": {
    "tags": []
   },
   "outputs": [],
   "source": [
    "#Add new list [32, 9.78, ‘High’, False]\n",
    "details.append([32,9.78,'high',False])"
   ]
  },
  {
   "cell_type": "code",
   "execution_count": 71,
   "id": "5c50b7c6-c4ad-446a-81ba-af9c8f9ac702",
   "metadata": {
    "tags": []
   },
   "outputs": [
    {
     "data": {
      "text/plain": [
       "[56,\n",
       " 'John',\n",
       " 98,\n",
       " 'Jane',\n",
       " 0.56,\n",
       " 64,\n",
       " 'Happy',\n",
       " 1.4,\n",
       " 85,\n",
       " [32, 9.78, 'high', False],\n",
       " [32, 9.78, 'high', False]]"
      ]
     },
     "execution_count": 71,
     "metadata": {},
     "output_type": "execute_result"
    }
   ],
   "source": [
    "details"
   ]
  },
  {
   "cell_type": "code",
   "execution_count": 72,
   "id": "97666b3e-b17f-4a57-a95f-ce019bd041d4",
   "metadata": {
    "tags": []
   },
   "outputs": [
    {
     "data": {
      "text/plain": [
       "[32, 9.78, 'high', False]"
      ]
     },
     "execution_count": 72,
     "metadata": {},
     "output_type": "execute_result"
    }
   ],
   "source": [
    "details.pop(10)"
   ]
  },
  {
   "cell_type": "code",
   "execution_count": 73,
   "id": "cf229de3-2e36-4e03-a815-6364752b71a9",
   "metadata": {
    "tags": []
   },
   "outputs": [
    {
     "data": {
      "text/plain": [
       "'high'"
      ]
     },
     "execution_count": 73,
     "metadata": {},
     "output_type": "execute_result"
    }
   ],
   "source": [
    "details[9][2]"
   ]
  },
  {
   "cell_type": "code",
   "execution_count": 75,
   "id": "0ae1b6ae-a8c2-4d0c-85da-0d515677ac01",
   "metadata": {
    "tags": []
   },
   "outputs": [
    {
     "data": {
      "text/plain": [
       "[56, 'John', 98, 'Jane', 0.56, 64, 'Happy', 1.4, 85, [32, 9.78, 'high', False]]"
      ]
     },
     "execution_count": 75,
     "metadata": {},
     "output_type": "execute_result"
    }
   ],
   "source": [
    "#remove false from the list\n",
    "details"
   ]
  },
  {
   "cell_type": "code",
   "execution_count": 79,
   "id": "11516843-71d0-4a8d-885b-6d44fccdb343",
   "metadata": {
    "tags": []
   },
   "outputs": [],
   "source": [
    "details[9].remove(False)"
   ]
  },
  {
   "cell_type": "code",
   "execution_count": 81,
   "id": "b36cfb07-acce-496a-9391-bf35bb9a8b91",
   "metadata": {
    "tags": []
   },
   "outputs": [
    {
     "data": {
      "text/plain": [
       "[56, 'John', 98, 'Jane', 0.56, 64, 'Happy', 1.4, 85, [32, 9.78, 'high']]"
      ]
     },
     "execution_count": 81,
     "metadata": {},
     "output_type": "execute_result"
    }
   ],
   "source": [
    "details"
   ]
  },
  {
   "cell_type": "code",
   "execution_count": 82,
   "id": "7d815de5-4133-4331-baa6-eab96a5c4bb4",
   "metadata": {
    "tags": []
   },
   "outputs": [
    {
     "data": {
      "text/plain": [
       "[56,\n",
       " 'John',\n",
       " 98,\n",
       " 'Jane',\n",
       " 0.56,\n",
       " 64,\n",
       " 'Happy',\n",
       " 1.4,\n",
       " 85,\n",
       " [32, 9.78, 'high'],\n",
       " 'jecob',\n",
       " 67,\n",
       " 1.1,\n",
       " 73]"
      ]
     },
     "execution_count": 82,
     "metadata": {},
     "output_type": "execute_result"
    }
   ],
   "source": [
    "#part oadd new list as all elements are f parent element [‘Jecob’, 67, 1.1, 73]\n",
    "details.extend(['jecob',67,1.1,73])\n",
    "details\n"
   ]
  },
  {
   "cell_type": "code",
   "execution_count": 83,
   "id": "f1c91560-0211-4a05-b53f-d0c056a28c84",
   "metadata": {
    "tags": []
   },
   "outputs": [
    {
     "data": {
      "text/plain": [
       "10"
      ]
     },
     "execution_count": 83,
     "metadata": {},
     "output_type": "execute_result"
    }
   ],
   "source": [
    "#print'jecob'using its index number\n",
    "details.index('jecob')"
   ]
  },
  {
   "cell_type": "code",
   "execution_count": 84,
   "id": "1ee21476-5ca2-4257-8500-2bbe268dfe77",
   "metadata": {
    "tags": []
   },
   "outputs": [],
   "source": [
    "#doubt\n",
    "#add new list[59,3.14]after value from list '32' and before '9.78'\n",
    "details[9].append([59,3.14])"
   ]
  },
  {
   "cell_type": "code",
   "execution_count": 85,
   "id": "5309b4f5-13dc-4687-bd67-886f4bb0382e",
   "metadata": {
    "tags": []
   },
   "outputs": [
    {
     "data": {
      "text/plain": [
       "[56,\n",
       " 'John',\n",
       " 98,\n",
       " 'Jane',\n",
       " 0.56,\n",
       " 64,\n",
       " 'Happy',\n",
       " 1.4,\n",
       " 85,\n",
       " [32, 9.78, 'high', [59, 3.14]],\n",
       " 'jecob',\n",
       " 67,\n",
       " 1.1,\n",
       " 73]"
      ]
     },
     "execution_count": 85,
     "metadata": {},
     "output_type": "execute_result"
    }
   ],
   "source": [
    "details"
   ]
  },
  {
   "cell_type": "code",
   "execution_count": null,
   "id": "c7c85709-36d8-48f6-85d1-4d184bac8bdc",
   "metadata": {},
   "outputs": [],
   "source": []
  }
 ],
 "metadata": {
  "kernelspec": {
   "display_name": "Python 3 (ipykernel)",
   "language": "python",
   "name": "python3"
  },
  "language_info": {
   "codemirror_mode": {
    "name": "ipython",
    "version": 3
   },
   "file_extension": ".py",
   "mimetype": "text/x-python",
   "name": "python",
   "nbconvert_exporter": "python",
   "pygments_lexer": "ipython3",
   "version": "3.11.3"
  }
 },
 "nbformat": 4,
 "nbformat_minor": 5
}
