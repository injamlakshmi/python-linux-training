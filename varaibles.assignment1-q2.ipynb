{
 "cells": [
  {
   "cell_type": "code",
   "execution_count": 4,
   "id": "07c7edbb-01b0-43f6-a8cc-d6731e996436",
   "metadata": {
    "tags": []
   },
   "outputs": [],
   "source": [
    "#Declare variables with different data types and do below things"
   ]
  },
  {
   "cell_type": "code",
   "execution_count": 9,
   "id": "edfc0d52-8692-432c-a8b5-6cf15998c792",
   "metadata": {
    "tags": []
   },
   "outputs": [
    {
     "name": "stdout",
     "output_type": "stream",
     "text": [
      "<class 'str'>\n",
      "<class 'int'>\n",
      "<class 'float'>\n",
      "<class 'bool'>\n"
     ]
    }
   ],
   "source": [
    "name = 'sri'\n",
    "age = 27\n",
    "num = 9.6\n",
    "stringnum = '2.5'\n",
    "student = True \n",
    "print(type(name))\n",
    "print(type(age))\n",
    "print(type(num))\n",
    "print(type(student))"
   ]
  },
  {
   "cell_type": "code",
   "execution_count": 17,
   "id": "711848a6-a4c5-4e22-8865-35a166d81840",
   "metadata": {
    "tags": []
   },
   "outputs": [
    {
     "data": {
      "text/plain": [
       "'27'"
      ]
     },
     "execution_count": 17,
     "metadata": {},
     "output_type": "execute_result"
    }
   ],
   "source": [
    "#casting from str to int\n",
    "age = str(27)\n",
    "age"
   ]
  },
  {
   "cell_type": "code",
   "execution_count": 18,
   "id": "dfd0a17d-64a9-4811-bf9d-812fe15de136",
   "metadata": {
    "tags": []
   },
   "outputs": [
    {
     "data": {
      "text/plain": [
       "2.5"
      ]
     },
     "execution_count": 18,
     "metadata": {},
     "output_type": "execute_result"
    }
   ],
   "source": [
    "#casting  str to float\n",
    "stringnum = float('2.5')\n",
    "stringnum"
   ]
  },
  {
   "cell_type": "code",
   "execution_count": 16,
   "id": "7ce1668e-acd7-4f01-ac76-85675ca4d8c7",
   "metadata": {
    "tags": []
   },
   "outputs": [
    {
     "data": {
      "text/plain": [
       "True"
      ]
     },
     "execution_count": 16,
     "metadata": {},
     "output_type": "execute_result"
    }
   ],
   "source": [
    "#casting str to bool\n",
    "name = bool('sri')\n",
    "name"
   ]
  },
  {
   "cell_type": "code",
   "execution_count": 15,
   "id": "6dd7ab20-cb18-4670-9b30-c4bc072ed212",
   "metadata": {
    "tags": []
   },
   "outputs": [
    {
     "data": {
      "text/plain": [
       "27.0"
      ]
     },
     "execution_count": 15,
     "metadata": {},
     "output_type": "execute_result"
    }
   ],
   "source": [
    "#casting int to float\n",
    "age = float(27)\n",
    "age"
   ]
  },
  {
   "cell_type": "code",
   "execution_count": 14,
   "id": "850b116e-7e07-4146-97be-c3ac9d9fe048",
   "metadata": {
    "tags": []
   },
   "outputs": [
    {
     "data": {
      "text/plain": [
       "True"
      ]
     },
     "execution_count": 14,
     "metadata": {},
     "output_type": "execute_result"
    }
   ],
   "source": [
    "#casting int to bool\n",
    "age = bool(27)\n",
    "age\n"
   ]
  },
  {
   "cell_type": "code",
   "execution_count": 20,
   "id": "00a5ddce-f0d9-470d-92ca-34e0e407d295",
   "metadata": {
    "tags": []
   },
   "outputs": [
    {
     "data": {
      "text/plain": [
       "'27'"
      ]
     },
     "execution_count": 20,
     "metadata": {},
     "output_type": "execute_result"
    }
   ],
   "source": [
    "#casting int to string \n",
    "age = str(27)\n",
    "age"
   ]
  },
  {
   "cell_type": "code",
   "execution_count": 13,
   "id": "1bee6ef5-280f-4106-bda6-adb1f3ef6141",
   "metadata": {
    "tags": []
   },
   "outputs": [
    {
     "data": {
      "text/plain": [
       "1"
      ]
     },
     "execution_count": 13,
     "metadata": {},
     "output_type": "execute_result"
    }
   ],
   "source": [
    "#casting float to int\n",
    "num = int(True)\n",
    "num\n"
   ]
  },
  {
   "cell_type": "code",
   "execution_count": 21,
   "id": "bfb0beb4-f7ad-4dcf-86e7-6fae20c6ca1d",
   "metadata": {
    "tags": []
   },
   "outputs": [
    {
     "data": {
      "text/plain": [
       "'9.6'"
      ]
     },
     "execution_count": 21,
     "metadata": {},
     "output_type": "execute_result"
    }
   ],
   "source": [
    "#casting float to string \n",
    "num = str(9.6)\n",
    "num"
   ]
  },
  {
   "cell_type": "code",
   "execution_count": 22,
   "id": "cce001b0-c871-4712-891e-e82d429b042e",
   "metadata": {
    "tags": []
   },
   "outputs": [
    {
     "data": {
      "text/plain": [
       "True"
      ]
     },
     "execution_count": 22,
     "metadata": {},
     "output_type": "execute_result"
    }
   ],
   "source": [
    "#casting float to bool\n",
    "num = bool(9.6)\n",
    "num"
   ]
  },
  {
   "cell_type": "code",
   "execution_count": 47,
   "id": "11b1f945-4a04-4b2b-a6cd-3d88ac220d9d",
   "metadata": {
    "tags": []
   },
   "outputs": [
    {
     "data": {
      "text/plain": [
       "9"
      ]
     },
     "execution_count": 47,
     "metadata": {},
     "output_type": "execute_result"
    }
   ],
   "source": [
    "#casting bool to int\n",
    "num = int(9.6)\n",
    "num"
   ]
  },
  {
   "cell_type": "code",
   "execution_count": 24,
   "id": "837b34df-535c-4216-b590-45678e0e9ec3",
   "metadata": {
    "tags": []
   },
   "outputs": [
    {
     "data": {
      "text/plain": [
       "1.0"
      ]
     },
     "execution_count": 24,
     "metadata": {},
     "output_type": "execute_result"
    }
   ],
   "source": [
    "#casting bool to float \n",
    "student = float(True)\n",
    "student"
   ]
  },
  {
   "cell_type": "code",
   "execution_count": 25,
   "id": "e4353e31-ba52-4578-bac2-2b30bff5e65e",
   "metadata": {
    "tags": []
   },
   "outputs": [
    {
     "data": {
      "text/plain": [
       "'True'"
      ]
     },
     "execution_count": 25,
     "metadata": {},
     "output_type": "execute_result"
    }
   ],
   "source": [
    "#casting bool to str \n",
    "student = str(True)\n",
    "student"
   ]
  },
  {
   "cell_type": "code",
   "execution_count": null,
   "id": "a0fda3d2-b4a8-4ae2-9af7-6fc585e01719",
   "metadata": {},
   "outputs": [],
   "source": []
  }
 ],
 "metadata": {
  "kernelspec": {
   "display_name": "Python 3 (ipykernel)",
   "language": "python",
   "name": "python3"
  },
  "language_info": {
   "codemirror_mode": {
    "name": "ipython",
    "version": 3
   },
   "file_extension": ".py",
   "mimetype": "text/x-python",
   "name": "python",
   "nbconvert_exporter": "python",
   "pygments_lexer": "ipython3",
   "version": "3.11.3"
  }
 },
 "nbformat": 4,
 "nbformat_minor": 5
}
