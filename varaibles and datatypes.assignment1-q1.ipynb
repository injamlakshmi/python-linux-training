{
 "cells": [
  {
   "cell_type": "code",
   "execution_count": null,
   "id": "a8f29f51-66a5-47cb-8b88-0300688b1411",
   "metadata": {},
   "outputs": [],
   "source": [
    "#Declare variables with different data types and do below things.\n",
    "#Print its value\n",
    "#Print its data type "
   ]
  },
  {
   "cell_type": "code",
   "execution_count": 19,
   "id": "a350997e-0d43-46ce-83e3-cd03c969afee",
   "metadata": {
    "tags": []
   },
   "outputs": [
    {
     "data": {
      "text/plain": [
       "('srilakshmi', 27, True, 0.5, 'austin', 123458)"
      ]
     },
     "execution_count": 19,
     "metadata": {},
     "output_type": "execute_result"
    }
   ],
   "source": [
    "details = 'srilakshmi',27,True,0.5,'austin',123458;\n",
    "details"
   ]
  },
  {
   "cell_type": "code",
   "execution_count": 20,
   "id": "648132f5-449a-4d72-ae48-efb3498cb6d0",
   "metadata": {
    "tags": []
   },
   "outputs": [
    {
     "data": {
      "text/plain": [
       "float"
      ]
     },
     "execution_count": 20,
     "metadata": {},
     "output_type": "execute_result"
    }
   ],
   "source": [
    "type(details[3])"
   ]
  },
  {
   "cell_type": "code",
   "execution_count": 21,
   "id": "3dc93854-ad94-440b-832f-0adda9a40787",
   "metadata": {
    "tags": []
   },
   "outputs": [
    {
     "data": {
      "text/plain": [
       "bool"
      ]
     },
     "execution_count": 21,
     "metadata": {},
     "output_type": "execute_result"
    }
   ],
   "source": [
    "type(details[2])"
   ]
  },
  {
   "cell_type": "code",
   "execution_count": 22,
   "id": "76f03836-6fc5-4744-88a0-dd72b573ed56",
   "metadata": {
    "tags": []
   },
   "outputs": [
    {
     "data": {
      "text/plain": [
       "str"
      ]
     },
     "execution_count": 22,
     "metadata": {},
     "output_type": "execute_result"
    }
   ],
   "source": [
    "type(details[4])"
   ]
  },
  {
   "cell_type": "code",
   "execution_count": 23,
   "id": "6d7dea36-5583-4937-9c2f-c3bda2749ec3",
   "metadata": {
    "tags": []
   },
   "outputs": [
    {
     "data": {
      "text/plain": [
       "tuple"
      ]
     },
     "execution_count": 23,
     "metadata": {},
     "output_type": "execute_result"
    }
   ],
   "source": [
    "type(details)"
   ]
  },
  {
   "cell_type": "code",
   "execution_count": 24,
   "id": "29e4f2de-4089-4c01-b6cd-7850b185b9ab",
   "metadata": {
    "tags": []
   },
   "outputs": [
    {
     "data": {
      "text/plain": [
       "list"
      ]
     },
     "execution_count": 24,
     "metadata": {},
     "output_type": "execute_result"
    }
   ],
   "source": [
    "#list\n",
    "details = ['srilakshmi',27,True,0.5,'austin',123458];\n",
    "details\n"
   ]
  },
  {
   "cell_type": "code",
   "execution_count": 26,
   "id": "3c5250a2-88b5-4b9b-bbbc-978cff300533",
   "metadata": {
    "tags": []
   },
   "outputs": [
    {
     "data": {
      "text/plain": [
       "set"
      ]
     },
     "execution_count": 26,
     "metadata": {},
     "output_type": "execute_result"
    }
   ],
   "source": [
    "#sets\n",
    "details = {'srilakshmi',27,True,0.5,'austin',123458};\n",
    "type(details)\n"
   ]
  },
  {
   "cell_type": "code",
   "execution_count": 29,
   "id": "1884372e-8cf4-485f-a018-45bd9eb5216f",
   "metadata": {
    "tags": []
   },
   "outputs": [
    {
     "data": {
      "text/plain": [
       "dict"
      ]
     },
     "execution_count": 29,
     "metadata": {},
     "output_type": "execute_result"
    }
   ],
   "source": [
    "#dict\n",
    "details = {'name':'srilakshmi','age':27,'address':'austin','id':123458};\n",
    "type(details)\n",
    "\n"
   ]
  },
  {
   "cell_type": "code",
   "execution_count": 30,
   "id": "efde58e1-8fee-4305-a6e1-773c4148f0ac",
   "metadata": {
    "tags": []
   },
   "outputs": [
    {
     "data": {
      "text/plain": [
       "{'name': 'srilakshmi', 'age': 27, 'address': 'austin', 'id': 123458}"
      ]
     },
     "execution_count": 30,
     "metadata": {},
     "output_type": "execute_result"
    }
   ],
   "source": [
    "details"
   ]
  },
  {
   "cell_type": "code",
   "execution_count": null,
   "id": "46638f94-31ac-490a-9207-ffba55a6b9f6",
   "metadata": {},
   "outputs": [],
   "source": []
  }
 ],
 "metadata": {
  "kernelspec": {
   "display_name": "Python 3 (ipykernel)",
   "language": "python",
   "name": "python3"
  },
  "language_info": {
   "codemirror_mode": {
    "name": "ipython",
    "version": 3
   },
   "file_extension": ".py",
   "mimetype": "text/x-python",
   "name": "python",
   "nbconvert_exporter": "python",
   "pygments_lexer": "ipython3",
   "version": "3.11.3"
  }
 },
 "nbformat": 4,
 "nbformat_minor": 5
}
