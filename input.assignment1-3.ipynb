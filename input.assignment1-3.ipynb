{
 "cells": [
  {
   "cell_type": "code",
   "execution_count": 6,
   "id": "ea9d2932-333d-4be6-b0dc-db43ecb78e0e",
   "metadata": {
    "tags": []
   },
   "outputs": [
    {
     "name": "stdin",
     "output_type": "stream",
     "text": [
      "enter your name srilakshmi\n"
     ]
    }
   ],
   "source": [
    "#Take input from the user using input() and store it into a variable and do below things\n",
    "#Ask user its name and store in name variable\n",
    "name = input(\"enter your name\")"
   ]
  },
  {
   "cell_type": "code",
   "execution_count": 7,
   "id": "1f00cdbf-e260-41eb-8c5b-55ee8ac4c71b",
   "metadata": {
    "tags": []
   },
   "outputs": [
    {
     "data": {
      "text/plain": [
       "'srilakshmi'"
      ]
     },
     "execution_count": 7,
     "metadata": {},
     "output_type": "execute_result"
    }
   ],
   "source": [
    "name"
   ]
  },
  {
   "cell_type": "code",
   "execution_count": 8,
   "id": "43f81ecf-1d53-4563-a7d0-4258952c8626",
   "metadata": {
    "tags": []
   },
   "outputs": [
    {
     "name": "stdin",
     "output_type": "stream",
     "text": [
      "enter your age 27\n"
     ]
    }
   ],
   "source": [
    "#Ask user its age and store in age variable as an integer\n",
    "age = input(\"enter your age\")"
   ]
  },
  {
   "cell_type": "code",
   "execution_count": 9,
   "id": "431c5548-3673-4d37-ab9f-fa8f6af904f6",
   "metadata": {
    "tags": []
   },
   "outputs": [
    {
     "data": {
      "text/plain": [
       "str"
      ]
     },
     "execution_count": 9,
     "metadata": {},
     "output_type": "execute_result"
    }
   ],
   "source": [
    "type(age)"
   ]
  },
  {
   "cell_type": "code",
   "execution_count": 10,
   "id": "e5f329bd-b849-41d7-a83c-b2836a038755",
   "metadata": {
    "tags": []
   },
   "outputs": [
    {
     "data": {
      "text/plain": [
       "int"
      ]
     },
     "execution_count": 10,
     "metadata": {},
     "output_type": "execute_result"
    }
   ],
   "source": [
    "age = int(age)\n",
    "type(age)"
   ]
  },
  {
   "cell_type": "code",
   "execution_count": 11,
   "id": "a108f474-5980-450b-b7c0-f668ba60b771",
   "metadata": {
    "tags": []
   },
   "outputs": [
    {
     "name": "stdin",
     "output_type": "stream",
     "text": [
      "enter your weight 57\n"
     ]
    }
   ],
   "source": [
    "#Ask user its weight and store it in weight variable as float value\n",
    "weight = input(\"enter your weight\")"
   ]
  },
  {
   "cell_type": "code",
   "execution_count": 12,
   "id": "fba66e5e-4824-451d-8c11-084f32609bc3",
   "metadata": {
    "tags": []
   },
   "outputs": [
    {
     "data": {
      "text/plain": [
       "'57'"
      ]
     },
     "execution_count": 12,
     "metadata": {},
     "output_type": "execute_result"
    }
   ],
   "source": [
    "weight"
   ]
  },
  {
   "cell_type": "code",
   "execution_count": 13,
   "id": "eca05f84-2301-40a1-a8ef-7c605fd301b3",
   "metadata": {
    "tags": []
   },
   "outputs": [
    {
     "data": {
      "text/plain": [
       "57.0"
      ]
     },
     "execution_count": 13,
     "metadata": {},
     "output_type": "execute_result"
    }
   ],
   "source": [
    " weight = float(weight)\n",
    "weight"
   ]
  },
  {
   "cell_type": "code",
   "execution_count": 14,
   "id": "7c8a25ec-2cec-4c62-bf11-a68f33b98fa7",
   "metadata": {
    "tags": []
   },
   "outputs": [
    {
     "name": "stdin",
     "output_type": "stream",
     "text": [
      "enter your maritalstatus married\n"
     ]
    }
   ],
   "source": [
    "#Ask user its marital status and store it in status variable as boolean value\n",
    "status = input(\"enter your maritalstatus\")\n"
   ]
  },
  {
   "cell_type": "code",
   "execution_count": 15,
   "id": "a8c245b6-9035-4e30-9350-69e09b3e0780",
   "metadata": {
    "tags": []
   },
   "outputs": [
    {
     "data": {
      "text/plain": [
       "True"
      ]
     },
     "execution_count": 15,
     "metadata": {},
     "output_type": "execute_result"
    }
   ],
   "source": [
    "status = bool(status)\n",
    "status"
   ]
  },
  {
   "cell_type": "code",
   "execution_count": 34,
   "id": "ef6f4085-04d8-4c2c-8236-4ae52da117db",
   "metadata": {
    "tags": []
   },
   "outputs": [
    {
     "name": "stdin",
     "output_type": "stream",
     "text": [
      "enter marks in Hindhi 70\n"
     ]
    }
   ],
   "source": [
    "#Ask user its marks in 5 subjects and store them all in different variables \n",
    "Hindi = input(\"enter marks in Hindhi\")\n",
    "Hindi = float(Hindi)"
   ]
  },
  {
   "cell_type": "code",
   "execution_count": 18,
   "id": "6eccff88-73c3-4da9-a9a3-204c8f7523fa",
   "metadata": {
    "tags": []
   },
   "outputs": [
    {
     "name": "stdin",
     "output_type": "stream",
     "text": [
      "enter marks in science 90\n"
     ]
    }
   ],
   "source": [
    "science = input(\"enter marks in science\")\n",
    "science = float(science)"
   ]
  },
  {
   "cell_type": "code",
   "execution_count": 19,
   "id": "038c94cc-d435-410c-a22b-b428a7d8cca4",
   "metadata": {
    "tags": []
   },
   "outputs": [
    {
     "name": "stdin",
     "output_type": "stream",
     "text": [
      "enter marks in maths 80\n"
     ]
    }
   ],
   "source": [
    "maths = input(\"enter marks in maths\")\n",
    "maths = float(maths)"
   ]
  },
  {
   "cell_type": "code",
   "execution_count": 20,
   "id": "71f926ec-a687-44f4-ab4f-4074504c7509",
   "metadata": {
    "tags": []
   },
   "outputs": [
    {
     "name": "stdin",
     "output_type": "stream",
     "text": [
      "enter marks in social 99\n"
     ]
    }
   ],
   "source": [
    "social = input(\"enter marks in social\")\n",
    "social = float(social)"
   ]
  },
  {
   "cell_type": "code",
   "execution_count": 33,
   "id": "31b2a0b5-cabc-4dd9-9b5a-6814eebd5b4f",
   "metadata": {
    "tags": []
   },
   "outputs": [
    {
     "name": "stdin",
     "output_type": "stream",
     "text": [
      "enter marks in english 88\n"
     ]
    }
   ],
   "source": [
    "english = input(\"enter marks in english\")\n",
    "english = float(english)"
   ]
  },
  {
   "cell_type": "code",
   "execution_count": 37,
   "id": "6938d818-3fc4-4bc7-a2a7-5fe169c25f50",
   "metadata": {
    "tags": []
   },
   "outputs": [
    {
     "data": {
      "text/plain": [
       "427.0"
      ]
     },
     "execution_count": 37,
     "metadata": {},
     "output_type": "execute_result"
    }
   ],
   "source": [
    "#do sum and store it in marks variable\n",
    "marks = Hindi+science+maths+social+english\n",
    "marks"
   ]
  },
  {
   "cell_type": "code",
   "execution_count": 42,
   "id": "2e2af324-7d69-42c7-b636-996b85237b39",
   "metadata": {
    "tags": []
   },
   "outputs": [
    {
     "data": {
      "text/plain": [
       "17.08"
      ]
     },
     "execution_count": 42,
     "metadata": {},
     "output_type": "execute_result"
    }
   ],
   "source": [
    "#get percentage of marks got and store it in percentage_int and percentage_float variable with float value#doubt\n",
    "#do division operation and double division operator (marks/500)*100\n",
    "(marks/500)*100"
   ]
  },
  {
   "cell_type": "code",
   "execution_count": null,
   "id": "a73dad00-33df-41b1-821d-4326cfde8942",
   "metadata": {},
   "outputs": [],
   "source": []
  }
 ],
 "metadata": {
  "kernelspec": {
   "display_name": "Python 3 (ipykernel)",
   "language": "python",
   "name": "python3"
  },
  "language_info": {
   "codemirror_mode": {
    "name": "ipython",
    "version": 3
   },
   "file_extension": ".py",
   "mimetype": "text/x-python",
   "name": "python",
   "nbconvert_exporter": "python",
   "pygments_lexer": "ipython3",
   "version": "3.11.3"
  }
 },
 "nbformat": 4,
 "nbformat_minor": 5
}
