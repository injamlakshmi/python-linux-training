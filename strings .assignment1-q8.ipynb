{
 "cells": [
  {
   "cell_type": "code",
   "execution_count": 2,
   "id": "4de9c684-5398-40fb-a80d-cb2cefbc4a03",
   "metadata": {
    "tags": []
   },
   "outputs": [
    {
     "data": {
      "text/plain": [
       "'hello world, this is python'"
      ]
     },
     "execution_count": 2,
     "metadata": {},
     "output_type": "execute_result"
    }
   ],
   "source": [
    "#strings\n",
    "#Declare a string with value “hello World, this is Python\n",
    "a = \"hello world, this is python\"\n",
    "a"
   ]
  },
  {
   "cell_type": "code",
   "execution_count": 3,
   "id": "15cdfd48-e2ef-47fe-8a51-61686f5aaa2a",
   "metadata": {
    "tags": []
   },
   "outputs": [
    {
     "data": {
      "text/plain": [
       "'d'"
      ]
     },
     "execution_count": 3,
     "metadata": {},
     "output_type": "execute_result"
    }
   ],
   "source": [
    "#print character at position / index number 10.\n",
    "a[10]"
   ]
  },
  {
   "cell_type": "code",
   "execution_count": 4,
   "id": "e3e60371-8b68-4659-9a4a-bfdf1f68a574",
   "metadata": {
    "tags": []
   },
   "outputs": [
    {
     "data": {
      "text/plain": [
       "3"
      ]
     },
     "execution_count": 4,
     "metadata": {},
     "output_type": "execute_result"
    }
   ],
   "source": [
    "#print count of character ‘l’ and ‘h\n",
    "a.count('l')"
   ]
  },
  {
   "cell_type": "code",
   "execution_count": 5,
   "id": "6d119db0-0bfa-41ee-af5e-8d0d42444393",
   "metadata": {
    "tags": []
   },
   "outputs": [
    {
     "data": {
      "text/plain": [
       "3"
      ]
     },
     "execution_count": 5,
     "metadata": {},
     "output_type": "execute_result"
    }
   ],
   "source": [
    "a.count('h')"
   ]
  },
  {
   "cell_type": "code",
   "execution_count": 6,
   "id": "6ce96c39-5a00-4c64-b7b8-46d5aa0de5b6",
   "metadata": {
    "tags": []
   },
   "outputs": [
    {
     "data": {
      "text/plain": [
       "'zello world, tzis is pytzon'"
      ]
     },
     "execution_count": 6,
     "metadata": {},
     "output_type": "execute_result"
    }
   ],
   "source": [
    "#replace ‘h’ with ‘z’\n",
    "a.replace(\"h\",\"z\")"
   ]
  },
  {
   "cell_type": "code",
   "execution_count": 7,
   "id": "b570913d-180c-4b62-9a9d-ab101dc145e5",
   "metadata": {
    "tags": []
   },
   "outputs": [
    {
     "data": {
      "text/plain": [
       "['he', '', 'o wor', 'd, this is python']"
      ]
     },
     "execution_count": 7,
     "metadata": {},
     "output_type": "execute_result"
    }
   ],
   "source": [
    "#split and print string with “l“\n",
    "a.split(\"l\")"
   ]
  },
  {
   "cell_type": "code",
   "execution_count": 8,
   "id": "fbe4613f-bbce-4469-81b3-a9e8b4e31751",
   "metadata": {
    "tags": []
   },
   "outputs": [
    {
     "data": {
      "text/plain": [
       "['hello world, this is python']"
      ]
     },
     "execution_count": 8,
     "metadata": {},
     "output_type": "execute_result"
    }
   ],
   "source": [
    "#it in same variable\n",
    "#join the splitted string with “#”.\n",
    "a.split(\"#\")"
   ]
  },
  {
   "cell_type": "code",
   "execution_count": 23,
   "id": "6257707a-20cf-4e77-80db-a017480b6402",
   "metadata": {
    "tags": []
   },
   "outputs": [
    {
     "data": {
      "text/plain": [
       "'this is a {} book, and its author is {}'"
      ]
     },
     "execution_count": 23,
     "metadata": {},
     "output_type": "execute_result"
    }
   ],
   "source": [
    "#declare a new string “This is a {} book, its author is {}”\n",
    "b = \"this is a {} book, and its author is {}\"\n",
    "b"
   ]
  },
  {
   "cell_type": "code",
   "execution_count": 24,
   "id": "b54be25c-4b6c-458c-ae39-f4c98154ea7b",
   "metadata": {
    "tags": []
   },
   "outputs": [
    {
     "data": {
      "text/plain": [
       "'this is a ABC book, and its author is XYZ'"
      ]
     },
     "execution_count": 24,
     "metadata": {},
     "output_type": "execute_result"
    }
   ],
   "source": [
    "#format above string with “ABC” and “XYZ” values\n",
    "b.format(\"ABC\",\"XYZ\")"
   ]
  },
  {
   "cell_type": "code",
   "execution_count": 25,
   "id": "13ac7e22-d39f-4a45-9909-90360d0b7a25",
   "metadata": {
    "tags": []
   },
   "outputs": [
    {
     "data": {
      "text/plain": [
       "'this is a {} book, and its author is {}'"
      ]
     },
     "execution_count": 25,
     "metadata": {},
     "output_type": "execute_result"
    }
   ],
   "source": [
    "#replace ABC with a good name.#DOUBT#\n",
    "b.replace(\"XYZ\",\"GOODNAME\")\n",
    "b"
   ]
  },
  {
   "cell_type": "code",
   "execution_count": 12,
   "id": "429a2283-eca1-4ff0-af6f-c1fc83906644",
   "metadata": {
    "tags": []
   },
   "outputs": [
    {
     "data": {
      "text/plain": [
       "'hello world, this is python'"
      ]
     },
     "execution_count": 12,
     "metadata": {},
     "output_type": "execute_result"
    }
   ],
   "source": [
    "#Print string in all small letters\n",
    "a.lower()"
   ]
  },
  {
   "cell_type": "code",
   "execution_count": 13,
   "id": "81470197-5964-40dd-a8c7-710ccf382ce7",
   "metadata": {
    "tags": []
   },
   "outputs": [
    {
     "data": {
      "text/plain": [
       "'HELLO WORLD, THIS IS PYTHON'"
      ]
     },
     "execution_count": 13,
     "metadata": {},
     "output_type": "execute_result"
    }
   ],
   "source": [
    "#print string in all small letters\n",
    "a.upper()"
   ]
  },
  {
   "cell_type": "code",
   "execution_count": 14,
   "id": "3de60fa3-bae8-4c76-8175-e715d8322eda",
   "metadata": {
    "tags": []
   },
   "outputs": [
    {
     "data": {
      "text/plain": [
       "'Hello World, This Is Python'"
      ]
     },
     "execution_count": 14,
     "metadata": {},
     "output_type": "execute_result"
    }
   ],
   "source": [
    "#print string as every first character of each word as capital\n",
    "a.title()"
   ]
  },
  {
   "cell_type": "code",
   "execution_count": 15,
   "id": "37d249eb-eaea-4b65-939b-8385694aaf0e",
   "metadata": {
    "tags": []
   },
   "outputs": [
    {
     "data": {
      "text/plain": [
       "False"
      ]
     },
     "execution_count": 15,
     "metadata": {},
     "output_type": "execute_result"
    }
   ],
   "source": [
    "#Check whether string has only alphabets or it’s alphanumeric.\n",
    "a.isalpha()"
   ]
  },
  {
   "cell_type": "code",
   "execution_count": 16,
   "id": "52e51942-dd89-4742-9fb0-231e78c17a1f",
   "metadata": {
    "tags": []
   },
   "outputs": [
    {
     "data": {
      "text/plain": [
       "False"
      ]
     },
     "execution_count": 16,
     "metadata": {},
     "output_type": "execute_result"
    }
   ],
   "source": [
    "a.isalnum()"
   ]
  },
  {
   "cell_type": "code",
   "execution_count": 17,
   "id": "62453350-b280-4593-84cc-b8f104c9dc92",
   "metadata": {
    "tags": []
   },
   "outputs": [
    {
     "data": {
      "text/plain": [
       "-1"
      ]
     },
     "execution_count": 17,
     "metadata": {},
     "output_type": "execute_result"
    }
   ],
   "source": [
    "#Try “find” method to find the set of characters and explain the results.\n",
    "a.find(\"H\")"
   ]
  },
  {
   "cell_type": "code",
   "execution_count": 18,
   "id": "9e6c1586-1aa5-4e3f-acc7-2bfd8ee4cf02",
   "metadata": {
    "tags": []
   },
   "outputs": [
    {
     "data": {
      "text/plain": [
       "0"
      ]
     },
     "execution_count": 18,
     "metadata": {},
     "output_type": "execute_result"
    }
   ],
   "source": [
    "a.find(\"h\")"
   ]
  },
  {
   "cell_type": "code",
   "execution_count": 19,
   "id": "5f9d66e8-2efc-48df-84f4-34a4ee415281",
   "metadata": {
    "tags": []
   },
   "outputs": [
    {
     "data": {
      "text/plain": [
       "15"
      ]
     },
     "execution_count": 19,
     "metadata": {},
     "output_type": "execute_result"
    }
   ],
   "source": [
    "a.find(\"i\")"
   ]
  },
  {
   "cell_type": "code",
   "execution_count": 20,
   "id": "ba31ef8f-882e-4a5c-9f92-af5c2f120c95",
   "metadata": {
    "tags": []
   },
   "outputs": [
    {
     "data": {
      "text/plain": [
       "-1"
      ]
     },
     "execution_count": 20,
     "metadata": {},
     "output_type": "execute_result"
    }
   ],
   "source": [
    "a.find(\"ph\")"
   ]
  },
  {
   "cell_type": "code",
   "execution_count": 21,
   "id": "ced69266-7e53-4fbb-8494-73314baf1553",
   "metadata": {
    "tags": []
   },
   "outputs": [
    {
     "data": {
      "text/plain": [
       "13"
      ]
     },
     "execution_count": 21,
     "metadata": {},
     "output_type": "execute_result"
    }
   ],
   "source": [
    "a.find(\"th\")"
   ]
  },
  {
   "cell_type": "code",
   "execution_count": null,
   "id": "db8e8924-b65d-440c-bf15-72df9a4facff",
   "metadata": {},
   "outputs": [],
   "source": [
    "#should find in which character is index number \n",
    "#it will first match the whole set of characters\n",
    "#if the character is true then it will give index numbers of the first matching characters\n",
    "#in find method if character is not their it will be printed -1\n",
    "#in index it will come error"
   ]
  }
 ],
 "metadata": {
  "kernelspec": {
   "display_name": "Python 3 (ipykernel)",
   "language": "python",
   "name": "python3"
  },
  "language_info": {
   "codemirror_mode": {
    "name": "ipython",
    "version": 3
   },
   "file_extension": ".py",
   "mimetype": "text/x-python",
   "name": "python",
   "nbconvert_exporter": "python",
   "pygments_lexer": "ipython3",
   "version": "3.11.3"
  }
 },
 "nbformat": 4,
 "nbformat_minor": 5
}
