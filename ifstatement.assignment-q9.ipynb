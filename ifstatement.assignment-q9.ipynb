{
 "cells": [
  {
   "cell_type": "code",
   "execution_count": 27,
   "id": "55b61a87-f7a0-40d2-907a-7ec54d8423db",
   "metadata": {
    "tags": []
   },
   "outputs": [
    {
     "name": "stdin",
     "output_type": "stream",
     "text": [
      "enter your value 10\n",
      "enter your value 20\n",
      "enter your value 30\n"
     ]
    }
   ],
   "source": [
    "\n",
    "#If else statements\n",
    "#Take an input from user for variable a, b and c as an integer values\n",
    "a = input(\"enter your value\")\n",
    "b = input(\"enter your value\")\n",
    "c = input(\"enter your value\")"
   ]
  },
  {
   "cell_type": "code",
   "execution_count": 32,
   "id": "14700635-e9b9-49ac-89be-6e1fcae16438",
   "metadata": {
    "tags": []
   },
   "outputs": [],
   "source": [
    "#check if a is greater than b and print it\n",
    "if a > b:\n",
    "    print(\"print a is greater than b\")"
   ]
  },
  {
   "cell_type": "code",
   "execution_count": 34,
   "id": "113b9c96-aece-40bb-a8e3-771cc3ce68e6",
   "metadata": {
    "tags": []
   },
   "outputs": [
    {
     "name": "stdout",
     "output_type": "stream",
     "text": [
      "b is greater than a \n"
     ]
    }
   ],
   "source": [
    "#check if b is greater than a and c is greater than b else print “other entity” . And print messages accordingly\n",
    "if b > a:\n",
    "    print(\"b is greater than a \")\n",
    "else:\n",
    "    print(\"c is greater than b\")"
   ]
  },
  {
   "cell_type": "code",
   "execution_count": 36,
   "id": "b7f93bed-c971-43b6-b760-1820947556d9",
   "metadata": {
    "tags": []
   },
   "outputs": [
    {
     "name": "stdout",
     "output_type": "stream",
     "text": [
      "september\n"
     ]
    }
   ],
   "source": [
    "#Take input from user from from 1 to 12. if user inputs another number print \n",
    "#invalid input”. Then write else-if ladder to check and print number matching month.\n",
    "month = 9\n",
    "if month == 1:\n",
    "    print(\"january\")\n",
    "elif month ==2:\n",
    "    print(\"feb\")\n",
    "elif month ==3:\n",
    "    print(\"march\")\n",
    "elif month ==4:\n",
    "    print(\"april\")\n",
    "elif month ==5:\n",
    "    print(\"may\")\n",
    "elif month ==6:\n",
    "    print(\"june\")\n",
    "elif month ==7:\n",
    "    print(\"july\")\n",
    "elif month ==8:\n",
    "    print(\"august\")\n",
    "elif month ==9:\n",
    "    print(\"september\")\n",
    "elif month  == 10:\n",
    "    print(\"october\")\n",
    "elif month ==11:\n",
    "    print(\"november\")\n",
    "elif month ==12:\n",
    "    print(\"december\")  \n",
    "        \n",
    "else:\n",
    "    print(\"invalid input\")\n"
   ]
  },
  {
   "cell_type": "code",
   "execution_count": 37,
   "id": "4fe3ef5f-3f42-4fd4-9d83-cefbd64a36d0",
   "metadata": {
    "tags": []
   },
   "outputs": [
    {
     "name": "stdout",
     "output_type": "stream",
     "text": [
      "invalid input\n"
     ]
    }
   ],
   "source": [
    "month = 13\n",
    "if month == 1:\n",
    "    print(\"january\")\n",
    "elif month ==2:\n",
    "    print(\"feb\")\n",
    "elif month ==3:\n",
    "    print(\"march\")\n",
    "elif month ==4:\n",
    "    print(\"april\")\n",
    "elif month ==5:\n",
    "    print(\"may\")\n",
    "elif month ==6:\n",
    "    print(\"june\")\n",
    "elif month ==7:\n",
    "    print(\"july\")\n",
    "elif month ==8:\n",
    "    print(\"august\")\n",
    "elif month ==9:\n",
    "    print(\"september\")\n",
    "elif month  == 10:\n",
    "    print(\"october\")\n",
    "elif month ==11:\n",
    "    print(\"november\")\n",
    "elif month ==12:\n",
    "    print(\"december\")  \n",
    "        \n",
    "else:\n",
    "    print(\"invalid input\")\n"
   ]
  },
  {
   "cell_type": "code",
   "execution_count": null,
   "id": "03d5903e-7028-4649-93ad-a3606f32af18",
   "metadata": {},
   "outputs": [],
   "source": []
  }
 ],
 "metadata": {
  "kernelspec": {
   "display_name": "Python 3 (ipykernel)",
   "language": "python",
   "name": "python3"
  },
  "language_info": {
   "codemirror_mode": {
    "name": "ipython",
    "version": 3
   },
   "file_extension": ".py",
   "mimetype": "text/x-python",
   "name": "python",
   "nbconvert_exporter": "python",
   "pygments_lexer": "ipython3",
   "version": "3.11.3"
  }
 },
 "nbformat": 4,
 "nbformat_minor": 5
}
